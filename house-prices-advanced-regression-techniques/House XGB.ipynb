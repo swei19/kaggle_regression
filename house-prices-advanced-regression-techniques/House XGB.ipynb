{
 "cells": [
  {
   "cell_type": "markdown",
   "metadata": {},
   "source": [
    "# Kaggle: House Prices: Advanced Regression Techniques"
   ]
  },
  {
   "cell_type": "markdown",
   "metadata": {},
   "source": [
    "In this notebook, I will be finding ways to predict home prices using primarily regression techniques. After self-learning Data Analysis and Python for around a year, I decided to enter my first Kaggle competition to further my knowledge. I also decided to complete this notebook on my own without using any publicly available kernels so that I can learn as much as possible. \n",
    "\n",
    "Overall, I found switching from learning mode to actually trying to compete with others was difficult, but I found that I have learnt a huge amount from this notebook, including the use of \"boosting\" models that take \"weak learners\" into \"strong learners\". I also find myself forgetting a few crucial points when analyzing data, such as remember to ensure that many models only work well with normally distributed data. In the future however, I do not think I will forget those points, especially after this notebook."
   ]
  },
  {
   "cell_type": "markdown",
   "metadata": {},
   "source": [
    "To start this notebook, I first import the necessary libraries below and read the train and test data. I will make a copy of both data in case I need to reference the original"
   ]
  },
  {
   "cell_type": "code",
   "execution_count": 85,
   "metadata": {},
   "outputs": [],
   "source": [
    "import numpy as np\n",
    "import pandas as pd\n",
    "import matplotlib.pyplot as plt\n",
    "import seaborn as sns\n",
    "\n",
    "from sklearn.linear_model import LinearRegression\n",
    "from sklearn.neighbors import KNeighborsClassifier\n",
    "from sklearn.ensemble import RandomForestRegressor\n",
    "\n",
    "from sklearn import metrics\n",
    "from scipy import stats\n",
    "from sklearn.linear_model import LassoCV\n",
    "from sklearn.model_selection import train_test_split\n",
    "from sklearn.model_selection import cross_val_score\n",
    "from xgboost.sklearn import XGBRegressor\n",
    "from sklearn.model_selection import KFold\n",
    "\n",
    "\n",
    "train = pd.read_csv(\"train.csv\") \n",
    "test = pd.read_csv(\"test.csv\")\n",
    "train_data = train.copy()\n",
    "test_data = test.copy()\n",
    "\n",
    "%matplotlib inline  "
   ]
  },
  {
   "cell_type": "markdown",
   "metadata": {},
   "source": [
    "## Correlation"
   ]
  },
  {
   "cell_type": "code",
   "execution_count": null,
   "metadata": {},
   "outputs": [],
   "source": [
    "train.head()"
   ]
  },
  {
   "cell_type": "code",
   "execution_count": null,
   "metadata": {},
   "outputs": [],
   "source": [
    "fig, ax = plt.subplots(figsize=(30,10)) \n",
    "sns.heatmap(train.corr(), ax=ax, annot=True)"
   ]
  },
  {
   "cell_type": "markdown",
   "metadata": {},
   "source": [
    "We can see above that features such as OverallQual, GRrLiv, GarageCars and GarageArea. However it is also worth noting that features such as GarageCars and GarageArea are highly correlated to each other. Id should be removed as it does not help in any way here. Very low correlated features such as YrSold and MiscVal should be considered for removal as well as it is possible that the small amount of correlation we are seeing are just random effects."
   ]
  },
  {
   "cell_type": "markdown",
   "metadata": {},
   "source": [
    "## Missing Data"
   ]
  },
  {
   "cell_type": "code",
   "execution_count": null,
   "metadata": {},
   "outputs": [],
   "source": [
    "fig, ax = plt.subplots(figsize=(15,4)) \n",
    "plt.xticks(rotation=\"vertical\")\n",
    "plt.bar(train_data.columns,train_data.isnull().sum()/len(train_data))\n",
    "plt.title(\"Missing Data\")"
   ]
  },
  {
   "cell_type": "markdown",
   "metadata": {},
   "source": [
    "We can see that some features in this dataset is missing alot of data. Features such as PoolQC and MiscFeature is missing more than 90% values. In this case, it probably makes sense to drop these columns, especially as we have seen in our correlation analysis, that some features including MiscFeature are also not very correlated with SalePrice (response column) at all.  "
   ]
  },
  {
   "cell_type": "markdown",
   "metadata": {},
   "source": [
    "## Handling Missing Data and Imputation"
   ]
  },
  {
   "cell_type": "markdown",
   "metadata": {},
   "source": [
    "I first decided to drop columns that are either missing much values or those that are unlikely to have any predictive power."
   ]
  },
  {
   "cell_type": "code",
   "execution_count": null,
   "metadata": {},
   "outputs": [],
   "source": [
    "train_data = train_data.drop([\"PoolQC\", \"Id\", \"Alley\",\"Fence\", \"MiscFeature\", \"FireplaceQu\"], axis=1)\n",
    "test_data = test_data.drop([\"PoolQC\", \"Id\",\"Alley\",\"Fence\", \"MiscFeature\", \"FireplaceQu\"], axis=1)"
   ]
  },
  {
   "cell_type": "markdown",
   "metadata": {},
   "source": [
    "Missing data that involves Garage or Basement likely just means that the home in question do not have a garage or basement. In those cases, its better to either fill the missing values with 0 (in case of numeric data) or put \"None\" (in case of categorical data). "
   ]
  },
  {
   "cell_type": "code",
   "execution_count": null,
   "metadata": {},
   "outputs": [],
   "source": [
    "train_data[[\"GarageCars\", \"GarageArea\", \"GarageYrBlt\"]] = train_data[[\"GarageCars\", \"GarageArea\", \"GarageYrBlt\"]].fillna(0)\n",
    "test_data[[\"GarageCars\", \"GarageArea\", \"GarageYrBlt\"]] = test_data[[\"GarageCars\", \"GarageArea\", \"GarageYrBlt\"]].fillna(0)\n",
    "train_data[\"GarageYrBlt\"] = train_data[\"GarageYrBlt\"].astype(int)\n",
    "test_data[\"GarageYrBlt\"] = test_data[\"GarageYrBlt\"].astype(int)"
   ]
  },
  {
   "cell_type": "code",
   "execution_count": null,
   "metadata": {},
   "outputs": [],
   "source": [
    "test_data[[\"BsmtFinSF1\",\"BsmtFinSF2\",\"BsmtUnfSF\",\"TotalBsmtSF\",\"BsmtFullBath\",\"BsmtHalfBath\",\"GarageCars\"]] = test_data[[\"BsmtFinSF1\",\"BsmtFinSF2\",\"BsmtUnfSF\",\"TotalBsmtSF\",\"BsmtFullBath\",\"BsmtHalfBath\",\"GarageCars\"]].fillna(0)"
   ]
  },
  {
   "cell_type": "code",
   "execution_count": null,
   "metadata": {},
   "outputs": [],
   "source": [
    "lr_train_cols_impute = train_data.loc[:,train_data.isnull().any()].select_dtypes(\"number\")\n",
    "lr_test_cols_impute = test_data.loc[:,test_data.isnull().any()].select_dtypes(\"number\")"
   ]
  },
  {
   "cell_type": "markdown",
   "metadata": {},
   "source": [
    "The Remaning two numeric columns with missing data, \"LotFrontage\" and \"MasVnrArea\" is filled with Linear Regression Imputation. I thought this might be a better approach than mean imputation since LotFrontage is missing almost around 20% of data."
   ]
  },
  {
   "cell_type": "code",
   "execution_count": null,
   "metadata": {},
   "outputs": [],
   "source": [
    "def imputeLR(column, data):\n",
    "    needLRImpute = data.loc[:,data.isnull().any()].select_dtypes(\"number\")\n",
    "    LRImputeMissingRows = needLRImpute[needLRImpute.isnull().any(axis=1)]\n",
    "    LRcompleteRows = needLRImpute[~needLRImpute.isnull().any(axis=1)]\n",
    "    \n",
    "    train = data.copy()\n",
    "    target = data[column]\n",
    "    train = data.select_dtypes(\"number\").drop(needLRImpute.columns, axis=1)\n",
    "    \n",
    "    imputeLr = LinearRegression()\n",
    "    imputeLr.fit(train.iloc[LRcompleteRows.index],target.iloc[LRcompleteRows.index])\n",
    "    LRImputeMissingRow = LRImputeMissingRows[LRImputeMissingRows[column].isnull()]\n",
    "    \n",
    "    return pd.Series(imputeLr.predict(train.iloc[LRImputeMissingRows.index]), index=LRImputeMissingRows.index, dtype='float64')\n",
    "    "
   ]
  },
  {
   "cell_type": "code",
   "execution_count": null,
   "metadata": {},
   "outputs": [],
   "source": [
    "for item in lr_train_cols_impute.columns:\n",
    "    train_data[item] = train_data[item].fillna(imputeLR(item, train_data))\n",
    "for item in lr_test_cols_impute.columns:\n",
    "    test_data[item] = test_data[item].fillna(imputeLR(item, test_data))\n",
    "    "
   ]
  },
  {
   "cell_type": "code",
   "execution_count": null,
   "metadata": {},
   "outputs": [],
   "source": [
    "train_data[[\"BsmtQual\", \"BsmtCond\", \"BsmtExposure\", \"BsmtFinType1\", \"BsmtFinType2\", \"GarageType\", \"GarageFinish\", \"GarageQual\", \"GarageCond\"]] = train_data[[\"BsmtQual\", \"BsmtCond\", \"BsmtExposure\", \"BsmtFinType1\", \"BsmtFinType2\", \"GarageType\", \"GarageFinish\", \"GarageQual\", \"GarageCond\"]].fillna(\"None\")\n",
    "test_data[[\"BsmtQual\", \"BsmtCond\", \"BsmtExposure\", \"BsmtFinType1\", \"BsmtFinType2\", \"GarageType\", \"GarageFinish\", \"GarageQual\", \"GarageCond\"]] = test_data[[\"BsmtQual\", \"BsmtCond\", \"BsmtExposure\", \"BsmtFinType1\", \"BsmtFinType2\", \"GarageType\", \"GarageFinish\", \"GarageQual\", \"GarageCond\"]].fillna(\"None\")"
   ]
  },
  {
   "cell_type": "code",
   "execution_count": null,
   "metadata": {},
   "outputs": [],
   "source": [
    "train_labelKNNImpute = train_data.loc[:,train_data.isnull().any()]\n",
    "test_labelKNNImpute = test_data.loc[:,test_data.isnull().any()]"
   ]
  },
  {
   "cell_type": "markdown",
   "metadata": {},
   "source": [
    "I then used KNN imputation to fill in missing categorical data for the train and test data set"
   ]
  },
  {
   "cell_type": "code",
   "execution_count": 13,
   "metadata": {},
   "outputs": [],
   "source": [
    "def knnImpute(col, data):\n",
    "    copyData = data.copy()\n",
    "    labelKNNImpute = data.loc[:,data.isnull().any()]\n",
    "    \n",
    "    copyData = copyData.drop(labelKNNImpute.columns, axis=1)\n",
    "    \n",
    "    labelCols = copyData.select_dtypes(\"object\")\n",
    "    copyData = pd.concat([copyData, pd.get_dummies(labelCols)], axis=1)\n",
    "    copyData = copyData.drop(labelCols, axis=1)\n",
    "    KNN = KNeighborsClassifier(5, weights='distance')\n",
    "    \n",
    "    currentTarget = labelKNNImpute[col]\n",
    "    currentMissing = labelKNNImpute[labelKNNImpute[col].isnull()]\n",
    "    \n",
    "    indexOfComplete = labelKNNImpute[labelKNNImpute[col].notnull()].index\n",
    "    \n",
    "    currentTrain = copyData.iloc[indexOfComplete]\n",
    "    currentTarget = currentTarget.iloc[indexOfComplete]\n",
    "    fit = KNN.fit(currentTrain, currentTarget)\n",
    "    \n",
    "    return pd.Series(fit.predict(copyData.iloc[currentMissing.index]), index=currentMissing.index)"
   ]
  },
  {
   "cell_type": "code",
   "execution_count": 14,
   "metadata": {},
   "outputs": [],
   "source": [
    "for item in train_labelKNNImpute.columns:\n",
    "    train_data[item] = train_data[item].fillna(knnImpute(item, train_data))\n",
    "    \n",
    "for item in test_labelKNNImpute.columns:\n",
    "    test_data[item] = test_data[item].fillna(knnImpute(item, test_data))"
   ]
  },
  {
   "cell_type": "markdown",
   "metadata": {},
   "source": [
    "## Outliers"
   ]
  },
  {
   "cell_type": "markdown",
   "metadata": {},
   "source": [
    "I am mostly interested in whether there are outliers in the response data. To test this, I plot a scatter plot of the living area vs sale price. I believe it it reasonable to assume that a larger home will fetch a higher price, therefore using living area is a good way to find outliers."
   ]
  },
  {
   "cell_type": "code",
   "execution_count": 15,
   "metadata": {},
   "outputs": [
    {
     "data": {
      "text/plain": [
       "<matplotlib.collections.PathCollection at 0x1f3ce5b04e0>"
      ]
     },
     "execution_count": 15,
     "metadata": {},
     "output_type": "execute_result"
    },
    {
     "data": {
      "image/png": "[encoded data removed]",
      "text/plain": [
       "<Figure size 432x288 with 1 Axes>"
      ]
     },
     "metadata": {
      "needs_background": "light"
     },
     "output_type": "display_data"
    }
   ],
   "source": [
    "plt.xlabel(\"Lot Area\")\n",
    "plt.ylabel(\"Sale Price\")\n",
    "plt.title(\"Lot Area Vs Sale Price\")\n",
    "plt.scatter(train_data[\"GrLivArea\"],train_data[\"SalePrice\"])\n"
   ]
  },
  {
   "cell_type": "markdown",
   "metadata": {},
   "source": [
    "We can see in the above graph that there definitely seems to be a few outliers. In order to remove them, I found the z-score for the SalePrice column, and then remove any values that are more than 3 standard deviations away. "
   ]
  },
  {
   "cell_type": "code",
   "execution_count": 16,
   "metadata": {},
   "outputs": [],
   "source": [
    "zscores_train = train_data.select_dtypes(\"number\").apply(lambda x: abs(stats.zscore(x)))"
   ]
  },
  {
   "cell_type": "code",
   "execution_count": 18,
   "metadata": {},
   "outputs": [],
   "source": [
    "train_data = train_data.drop(zscores_train[zscores_train[\"SalePrice\"] > 3].index).reset_index(drop=True)"
   ]
  },
  {
   "cell_type": "markdown",
   "metadata": {},
   "source": [
    "### Transformation"
   ]
  },
  {
   "cell_type": "markdown",
   "metadata": {},
   "source": [
    "Below, I decided to change all categorical data into a numeric format to allow the models to use those data. Furthermore, some of the model I will using works better when the response column follows a normal distribution"
   ]
  },
  {
   "cell_type": "code",
   "execution_count": 27,
   "metadata": {},
   "outputs": [],
   "source": [
    "non_numeric = train_data.select_dtypes(\"object\")"
   ]
  },
  {
   "cell_type": "code",
   "execution_count": 28,
   "metadata": {},
   "outputs": [],
   "source": [
    "full_train = train_data.copy()\n",
    "full_train[non_numeric.columns] = full_train[non_numeric.columns].astype(\"category\")\n",
    "full_train[non_numeric.columns] = full_train[non_numeric.columns].apply(lambda x: x.cat.codes)"
   ]
  },
  {
   "cell_type": "code",
   "execution_count": 29,
   "metadata": {},
   "outputs": [],
   "source": [
    "full_test = test_data.copy()\n",
    "full_test[non_numeric.columns] = full_test[non_numeric.columns].astype(\"category\")\n",
    "full_test[non_numeric.columns] = full_test[non_numeric.columns].apply(lambda x: x.cat.codes)"
   ]
  },
  {
   "cell_type": "code",
   "execution_count": 31,
   "metadata": {},
   "outputs": [],
   "source": [
    "current_x = full_train.copy()\n",
    "current_y = current_x[\"SalePrice\"]\n",
    "current_x = current_x.drop(\"SalePrice\", axis=1)"
   ]
  },
  {
   "cell_type": "markdown",
   "metadata": {},
   "source": [
    "As we can see below, the response column is slightly skewed. To make it more normal, I decided to apply the log function to the response data"
   ]
  },
  {
   "cell_type": "code",
   "execution_count": 38,
   "metadata": {
    "scrolled": true
   },
   "outputs": [
    {
     "data": {
      "text/plain": [
       "<matplotlib.axes._subplots.AxesSubplot at 0x1f3d576c470>"
      ]
     },
     "execution_count": 38,
     "metadata": {},
     "output_type": "execute_result"
    },
    {
     "data": {
      "image/png": "[encoded data removed]",
      "text/plain": [
       "<Figure size 432x288 with 1 Axes>"
      ]
     },
     "metadata": {
      "needs_background": "light"
     },
     "output_type": "display_data"
    }
   ],
   "source": [
    "sns.distplot(current_y)"
   ]
  },
  {
   "cell_type": "code",
   "execution_count": 40,
   "metadata": {},
   "outputs": [],
   "source": [
    "current_y = np.log(current_y)"
   ]
  },
  {
   "cell_type": "markdown",
   "metadata": {},
   "source": [
    "## Models"
   ]
  },
  {
   "cell_type": "markdown",
   "metadata": {},
   "source": [
    "### Lasso Regression"
   ]
  },
  {
   "cell_type": "code",
   "execution_count": 84,
   "metadata": {},
   "outputs": [
    {
     "data": {
      "text/plain": [
       "0.7526522113970943"
      ]
     },
     "execution_count": 84,
     "metadata": {},
     "output_type": "execute_result"
    }
   ],
   "source": [
    "lasso = LassoCV(cv=5)\n",
    "lasso.fit(current_x, current_y)\n",
    "lasso.score(current_x, current_y)"
   ]
  },
  {
   "cell_type": "markdown",
   "metadata": {},
   "source": [
    "### Random Forest"
   ]
  },
  {
   "cell_type": "code",
   "execution_count": 89,
   "metadata": {},
   "outputs": [
    {
     "data": {
      "text/plain": [
       "0.981257190269236"
      ]
     },
     "execution_count": 89,
     "metadata": {},
     "output_type": "execute_result"
    }
   ],
   "source": [
    "rf = RandomForestRegressor(n_estimators=100)\n",
    "rf.fit(current_x, current_y)\n",
    "rf.score(current_x, current_y)"
   ]
  },
  {
   "cell_type": "markdown",
   "metadata": {},
   "source": [
    "### Xtreme Gradient Boosting"
   ]
  },
  {
   "cell_type": "code",
   "execution_count": 99,
   "metadata": {},
   "outputs": [],
   "source": [
    "xgb = XGBRegressor(colsample_bytree= 0.3, learning_rate=0.15, n_estimators=100, reg_alpha=0.2)"
   ]
  },
  {
   "cell_type": "code",
   "execution_count": 100,
   "metadata": {},
   "outputs": [
    {
     "data": {
      "text/plain": [
       "0.9494930341459166"
      ]
     },
     "execution_count": 100,
     "metadata": {},
     "output_type": "execute_result"
    }
   ],
   "source": [
    "xgb.fit(current_x, current_y)\n",
    "xgb.score(current_x, current_y)"
   ]
  },
  {
   "cell_type": "code",
   "execution_count": 101,
   "metadata": {},
   "outputs": [],
   "source": [
    "predictions = xgb.predict(full_test)"
   ]
  },
  {
   "cell_type": "code",
   "execution_count": 102,
   "metadata": {},
   "outputs": [],
   "source": [
    "predictions = np.exp(predictions)"
   ]
  },
  {
   "cell_type": "markdown",
   "metadata": {},
   "source": [
    "### Submission Codes"
   ]
  },
  {
   "cell_type": "code",
   "execution_count": 103,
   "metadata": {},
   "outputs": [],
   "source": [
    "currentSubmit = test_data.copy()\n",
    "currentSubmit[\"SalePrice\"] = predictions\n",
    "currentSubmit[\"Id\"] = test[\"Id\"]"
   ]
  },
  {
   "cell_type": "code",
   "execution_count": 104,
   "metadata": {},
   "outputs": [],
   "source": [
    "currentSubmit[[\"Id\",\"SalePrice\"]].to_csv(\"submission.csv\", index=False)"
   ]
  },
  {
   "cell_type": "markdown",
   "metadata": {},
   "source": [
    "### Reference"
   ]
  },
  {
   "cell_type": "code",
   "execution_count": null,
   "metadata": {},
   "outputs": [],
   "source": [
    "lr_data = train_data.copy()\n",
    "drop_non_numeric = lr_data.select_dtypes(\"object\")\n",
    "lr_data = pd.concat([lr_data, pd.get_dummies(drop_non_numeric)], axis=1)\n",
    "lr_data = lr_data.drop(drop_non_numeric, axis=1)"
   ]
  },
  {
   "cell_type": "code",
   "execution_count": null,
   "metadata": {
    "scrolled": true
   },
   "outputs": [],
   "source": [
    "current_x[\"GrLivArea\"] = np.log(current_x[\"GrLivArea\"])\n",
    "current_x['TotalBsmtSF'] = np.log(current_x['TotalBsmtSF'])\n",
    "full_test[\"GrLivArea\"] = np.log(full_test[\"GrLivArea\"])\n",
    "full_test['TotalBsmtSF'] = np.log(full_test['TotalBsmtSF'])"
   ]
  },
  {
   "cell_type": "code",
   "execution_count": null,
   "metadata": {},
   "outputs": [],
   "source": []
  },
  {
   "cell_type": "code",
   "execution_count": 1,
   "metadata": {},
   "outputs": [
    {
     "name": "stdout",
     "output_type": "stream",
     "text": [
      "816\n"
     ]
    }
   ],
   "source": [
    "result = 0\n",
    "for x in range(101):\n",
    "    if x % 6 == 0:\n",
    "        result += x\n",
    "print(result)"
   ]
  },
  {
   "cell_type": "code",
   "execution_count": null,
   "metadata": {},
   "outputs": [],
   "source": []
  }
 ],
 "metadata": {
  "kernelspec": {
   "display_name": "Python 3",
   "language": "python",
   "name": "python3"
  },
  "language_info": {
   "codemirror_mode": {
    "name": "ipython",
    "version": 3
   },
   "file_extension": ".py",
   "mimetype": "text/x-python",
   "name": "python",
   "nbconvert_exporter": "python",
   "pygments_lexer": "ipython3",
   "version": "3.7.3"
  }
 },
 "nbformat": 4,
 "nbformat_minor": 2
}
